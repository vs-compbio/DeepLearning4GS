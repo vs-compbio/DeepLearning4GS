{
 "cells": [
  {
   "cell_type": "code",
   "execution_count": null,
   "id": "c66aba30",
   "metadata": {},
   "outputs": [],
   "source": [
    "# import libraries\n",
    "from sklearn.neural_network import MLPRegressor\n",
    "import numpy as np\n",
    "import pandas as pd\n",
    "import tensorflow as tf\n",
    "from tensorflow import keras\n",
    "\n",
    "\n",
    "from keras.models import Sequential, load_model\n",
    "from keras.layers import Dense, Activation, Dropout\n",
    "from keras.layers import Flatten, Conv1D, MaxPooling1D, LSTM\n",
    "from keras.activations import relu, elu, linear, softmax\n",
    "from keras.callbacks import EarlyStopping, Callback\n",
    "#from tensorflow.keras.optimizers import Adam, Nadam\n",
    "from keras.losses import mean_squared_error, categorical_crossentropy, logcosh\n",
    "from sklearn.preprocessing import MinMaxScaler\n",
    "from sklearn.preprocessing import StandardScaler\n",
    "from sklearn.model_selection import GridSearchCV\n",
    "from keras.wrappers.scikit_learn import KerasRegressor\n",
    "from tensorflow.keras.callbacks import EarlyStopping\n",
    "import time\n",
    "\n",
    "#pip install keras-tuner --upgrade\n",
    "import keras_tuner\n",
    "from keras_tuner import RandomSearch\n",
    "\n",
    "\n"
   ]
  },
  {
   "cell_type": "code",
   "execution_count": null,
   "id": "ad8ffeda",
   "metadata": {},
   "outputs": [],
   "source": [
    "# Check available devices\n",
    "devices = tf.config.list_physical_devices('GPU')\n",
    "\n",
    "if len(devices) > 0:\n",
    "    print(\"GPU is available\")\n",
    "    for device in devices:\n",
    "        print(\"Device name:\", device.name)\n",
    "else:\n",
    "    print(\"No GPU is available\")"
   ]
  },
  {
   "cell_type": "code",
   "execution_count": null,
   "id": "53cdf8d8",
   "metadata": {},
   "outputs": [],
   "source": [
    "# processig data\n",
    "def data_preprocess(dataset,target): \n",
    "    # Scaled data\n",
    "    min_max_scaler = MinMaxScaler(feature_range = (0,1))\n",
    "    np_scaled = min_max_scaler.fit_transform(dataset)\n",
    "    X = pd.DataFrame(np_scaled)\n",
    "    \n",
    "    target_edit = pd.Series(target).values\n",
    "    target_edit = target_edit.reshape(-1,1)\n",
    "    np_scaled = min_max_scaler.fit_transform(target_edit)\n",
    "    Y = pd.DataFrame(np_scaled)\n",
    "    # Split data\n",
    "    from sklearn.model_selection import train_test_split\n",
    "    X_train, X_test, y_train, y_test = train_test_split(X,Y, test_size=0.2)\n",
    "      \n",
    "    scaler = StandardScaler()\n",
    "    # Fit only to the training data\n",
    "    scaler.fit(X_train)\n",
    "        \n",
    "    X_train = scaler.transform(X_train)\n",
    "    X_test = scaler.transform(X_test)\n",
    "    \n",
    "    X_train = pd.DataFrame(X_train)\n",
    "    X_test = pd.DataFrame(X_test)\n",
    "    return X_train, y_train, X_test, y_test"
   ]
  },
  {
   "cell_type": "code",
   "execution_count": null,
   "id": "c74830b4",
   "metadata": {},
   "outputs": [],
   "source": [
    "data = pd.read_csv('/uufs/chpc.utah.edu/common/home/akaundal-group3/Vishal/NAM_dat.csv', header=0)\n",
    "#data = pd.read_csv('/uufs/chpc.utah.edu/common/home/akaundal-group3/Vishal/NAM_dat.csv', header=0)\n",
    "dataset=data.iloc[:,19:]\n",
    "target=data.iloc[:, 4]\n",
    "    \n",
    "#preprocess data\n",
    "X_train, y_train, X_test, y_test = data_preprocess(dataset, target)"
   ]
  },
  {
   "cell_type": "code",
   "execution_count": null,
   "id": "307c81df",
   "metadata": {},
   "outputs": [],
   "source": [
    "def build_model(hp):\n",
    "    model = keras.Sequential()\n",
    "    #model.add(keras.layers.Flatten())\n",
    "#     model.add(\n",
    "#         keras.layers.Dense(\n",
    "#             # Tune number of units.\n",
    "#             units=hp.Int(\"units\", min_value=32, max_value=512, step=32),\n",
    "#             # Tune the activation function to use.\n",
    "#             activation=hp.Choice(\"activation\", [\"relu\",\"tanh\"]),\n",
    "#         )\n",
    "#     )\n",
    "#     # Tune whether to use dropout.\n",
    "#     if hp.Boolean(\"dropout\"):\n",
    "#         model.add(keras.layers.Dropout(rate=0.25))\n",
    "    for i in range(hp.Int('num_layers', 2, 20)):\n",
    "        model.add(keras.layers.Dense(units=hp.Int('units_'+str(i),\n",
    "                                           min_value=32,\n",
    "                                           max_value=512),\n",
    "                              activation='relu'))\n",
    "    model.add(keras.layers.Dense(1, activation=\"linear\"))\n",
    "    # Define the optimizer learning rate as a hyperparameter.\n",
    "    learning_rate = hp.Float(\"lr\", min_value=1e-4, max_value=1e-2, sampling=\"log\")\n",
    "    model.compile(\n",
    "        optimizer=keras.optimizers.Adam(learning_rate=learning_rate),\n",
    "        loss=\"mean_absolute_error\",\n",
    "        metrics=[\"mean_absolute_error\"])\n",
    "    return model\n"
   ]
  },
  {
   "cell_type": "code",
   "execution_count": null,
   "id": "90abae31",
   "metadata": {},
   "outputs": [],
   "source": [
    "tuner = keras_tuner.RandomSearch(\n",
    "    build_model,\n",
    "    objective=keras_tuner.Objective('val_mean_absolute_error','min'),\n",
    "    max_trials=50,\n",
    "    executions_per_trial=4,\n",
    "    #distribution_strategy=tf.distribute.MirroredStrategy(),\n",
    "    directory='project2',\n",
    "    project_name='GS_KSdata2')\n",
    "tuner.search_space_summary()"
   ]
  },
  {
   "cell_type": "code",
   "execution_count": 1,
   "id": "6bb825ab",
   "metadata": {},
   "outputs": [
    {
     "ename": "NameError",
     "evalue": "name 'keras_tuner' is not defined",
     "output_type": "error",
     "traceback": [
      "\u001b[0;31m---------------------------------------------------------------------------\u001b[0m",
      "\u001b[0;31mNameError\u001b[0m                                 Traceback (most recent call last)",
      "Cell \u001b[0;32mIn[1], line 1\u001b[0m\n\u001b[0;32m----> 1\u001b[0m tuner \u001b[38;5;241m=\u001b[39m \u001b[43mkeras_tuner\u001b[49m\u001b[38;5;241m.\u001b[39mBayesianOptimization(\n\u001b[1;32m      2\u001b[0m     build_model,\n\u001b[1;32m      3\u001b[0m     objective\u001b[38;5;241m=\u001b[39mkeras_tuner\u001b[38;5;241m.\u001b[39mObjective(\u001b[38;5;124m'\u001b[39m\u001b[38;5;124mval_mean_absolute_error\u001b[39m\u001b[38;5;124m'\u001b[39m,\u001b[38;5;124m'\u001b[39m\u001b[38;5;124mmin\u001b[39m\u001b[38;5;124m'\u001b[39m),\n\u001b[1;32m      4\u001b[0m     max_trials\u001b[38;5;241m=\u001b[39m\u001b[38;5;241m50\u001b[39m,\n\u001b[1;32m      5\u001b[0m     executions_per_trial\u001b[38;5;241m=\u001b[39m\u001b[38;5;241m4\u001b[39m,\n\u001b[1;32m      6\u001b[0m     \u001b[38;5;66;03m#distribution_strategy=tf.distribute.MirroredStrategy(),\u001b[39;00m\n\u001b[1;32m      7\u001b[0m     directory\u001b[38;5;241m=\u001b[39m\u001b[38;5;124m'\u001b[39m\u001b[38;5;124mproject2\u001b[39m\u001b[38;5;124m'\u001b[39m,\n\u001b[1;32m      8\u001b[0m     project_name\u001b[38;5;241m=\u001b[39m\u001b[38;5;124m'\u001b[39m\u001b[38;5;124mGS_KSdata2\u001b[39m\u001b[38;5;124m'\u001b[39m)\n\u001b[1;32m      9\u001b[0m tuner\u001b[38;5;241m.\u001b[39msearch_space_summary()\n",
      "\u001b[0;31mNameError\u001b[0m: name 'keras_tuner' is not defined"
     ]
    }
   ],
   "source": [
    "tuner = keras_tuner.BayesianOptimization(\n",
    "    build_model,\n",
    "    objective=keras_tuner.Objective('val_mean_absolute_error','min'),\n",
    "    max_trials=50,\n",
    "    executions_per_trial=4,\n",
    "    #distribution_strategy=tf.distribute.MirroredStrategy(),\n",
    "    directory='project2',\n",
    "    project_name='GS_KSdata2')\n",
    "tuner.search_space_summary()"
   ]
  },
  {
   "cell_type": "code",
   "execution_count": null,
   "id": "2ddfed52",
   "metadata": {},
   "outputs": [],
   "source": []
  },
  {
   "cell_type": "code",
   "execution_count": null,
   "id": "5ac3fd99",
   "metadata": {},
   "outputs": [],
   "source": [
    "tuner.search(X_train, y_train, epochs=15, validation_data=(X_test, y_test))"
   ]
  },
  {
   "cell_type": "code",
   "execution_count": null,
   "id": "c4902e83",
   "metadata": {},
   "outputs": [],
   "source": [
    "tuner.results_summary()"
   ]
  },
  {
   "cell_type": "code",
   "execution_count": null,
   "id": "4a60226c",
   "metadata": {},
   "outputs": [],
   "source": []
  },
  {
   "cell_type": "code",
   "execution_count": null,
   "id": "f1c69a75",
   "metadata": {},
   "outputs": [],
   "source": []
  }
 ],
 "metadata": {
  "kernelspec": {
   "display_name": "Python 3 (ipykernel)",
   "language": "python",
   "name": "python3"
  },
  "language_info": {
   "codemirror_mode": {
    "name": "ipython",
    "version": 3
   },
   "file_extension": ".py",
   "mimetype": "text/x-python",
   "name": "python",
   "nbconvert_exporter": "python",
   "pygments_lexer": "ipython3",
   "version": "3.9.7"
  }
 },
 "nbformat": 4,
 "nbformat_minor": 5
}
